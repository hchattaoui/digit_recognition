{
 "cells": [
  {
   "cell_type": "code",
   "execution_count": 1,
   "metadata": {},
   "outputs": [
    {
     "data": {
      "application/vnd.jupyter.widget-view+json": {
       "model_id": "efc189ec15dc472dbaaa3f4806e285a1",
       "version_major": 2,
       "version_minor": 0
      },
      "text/plain": [
       "HBox(children=(IntProgress(value=1, bar_style='info', max=1), HTML(value='')))"
      ]
     },
     "metadata": {},
     "output_type": "display_data"
    },
    {
     "name": "stdout",
     "output_type": "stream",
     "text": [
      "\n"
     ]
    },
    {
     "name": "stderr",
     "output_type": "stream",
     "text": [
      "Using TensorFlow backend.\n"
     ]
    }
   ],
   "source": [
    "import pandas as pd\n",
    "import numpy as np\n",
    "import matplotlib.pyplot as plt\n",
    "import cv2\n",
    "import os\n",
    "from tqdm import tqdm_notebook as tqdm\n",
    "tqdm().pandas()\n",
    "import keras\n",
    "from keras.layers import Input, Dense, Lambda, Conv2D, MaxPooling2D, UpSampling2D, Flatten, Reshape, Conv2DTranspose\n",
    "from keras.preprocessing import backend as K\n",
    "from keras.models import Model\n",
    "from keras import objectives\n",
    "from keras.callbacks import EarlyStopping, ModelCheckpoint\n",
    "from sklearn import neighbors\n",
    "from keras.models import model_from_json\n",
    "from sklearn.metrics import (confusion_matrix, precision_recall_curve, auc,\n",
    "                             roc_curve, recall_score, classification_report, f1_score,\n",
    "                             precision_recall_fscore_support,accuracy_score, cohen_kappa_score)"
   ]
  },
  {
   "cell_type": "code",
   "execution_count": 2,
   "metadata": {},
   "outputs": [],
   "source": [
    "def load(digit,folder):\n",
    "    path_to_data = 'data/mnist/'+ folder + '/' + str(digit) +'/'\n",
    "    files = [file for file in os.listdir(path_to_data)]\n",
    "    images = [cv2.imread(path_to_data + file, cv2.IMREAD_GRAYSCALE) for file in files]\n",
    "    images = [cv2.resize(img, (28, 28)) for img in images if img is not None]\n",
    "    labels = [digit]*len(images)\n",
    "    return images, labels"
   ]
  },
  {
   "cell_type": "code",
   "execution_count": 3,
   "metadata": {},
   "outputs": [
    {
     "data": {
      "application/vnd.jupyter.widget-view+json": {
       "model_id": "d5f62aa8ca844c35a0c1ad42a4e4d2f1",
       "version_major": 2,
       "version_minor": 0
      },
      "text/plain": [
       "HBox(children=(IntProgress(value=0, max=10), HTML(value='')))"
      ]
     },
     "metadata": {},
     "output_type": "display_data"
    },
    {
     "name": "stdout",
     "output_type": "stream",
     "text": [
      "\n"
     ]
    }
   ],
   "source": [
    "train_x, train_y= [], []\n",
    "for i in tqdm(range(10)):\n",
    "    imgs = load(i,'training')\n",
    "    train_x += imgs[0] \n",
    "    train_y += imgs[1]"
   ]
  },
  {
   "cell_type": "code",
   "execution_count": 4,
   "metadata": {},
   "outputs": [
    {
     "name": "stdout",
     "output_type": "stream",
     "text": [
      "(60000, 28, 28, 1) (60000,)\n"
     ]
    }
   ],
   "source": [
    "train_x = np.array(train_x, dtype=\"float\") / 255.0\n",
    "image_size = train_x.shape[1]\n",
    "train_x = train_x.reshape(-1,28,28,1)\n",
    "train_y = np.array(train_y)\n",
    "\n",
    "print(train_x.shape, train_y.shape)"
   ]
  },
  {
   "cell_type": "code",
   "execution_count": 5,
   "metadata": {
    "scrolled": true
   },
   "outputs": [
    {
     "name": "stdout",
     "output_type": "stream",
     "text": [
      "WARNING:tensorflow:From /home/houssem/anaconda2/envs/mypy3/lib/python3.4/site-packages/tensorflow/python/framework/op_def_library.py:263: colocate_with (from tensorflow.python.framework.ops) is deprecated and will be removed in a future version.\n",
      "Instructions for updating:\n",
      "Colocations handled automatically by placer.\n",
      "__________________________________________________________________________________________________\n",
      "Layer (type)                    Output Shape         Param #     Connected to                     \n",
      "==================================================================================================\n",
      "input_1 (InputLayer)            (None, 28, 28, 1)    0                                            \n",
      "__________________________________________________________________________________________________\n",
      "conv2d_1 (Conv2D)               (None, 28, 28, 16)   160         input_1[0][0]                    \n",
      "__________________________________________________________________________________________________\n",
      "conv2d_2 (Conv2D)               (None, 28, 28, 16)   2320        conv2d_1[0][0]                   \n",
      "__________________________________________________________________________________________________\n",
      "max_pooling2d_1 (MaxPooling2D)  (None, 14, 14, 16)   0           conv2d_2[0][0]                   \n",
      "__________________________________________________________________________________________________\n",
      "conv2d_3 (Conv2D)               (None, 14, 14, 32)   4640        max_pooling2d_1[0][0]            \n",
      "__________________________________________________________________________________________________\n",
      "max_pooling2d_2 (MaxPooling2D)  (None, 7, 7, 32)     0           conv2d_3[0][0]                   \n",
      "__________________________________________________________________________________________________\n",
      "flatten_1 (Flatten)             (None, 1568)         0           max_pooling2d_2[0][0]            \n",
      "__________________________________________________________________________________________________\n",
      "dense_1 (Dense)                 (None, 32)           50208       flatten_1[0][0]                  \n",
      "__________________________________________________________________________________________________\n",
      "mu (Dense)                      (None, 10)           330         dense_1[0][0]                    \n",
      "__________________________________________________________________________________________________\n",
      "log_var (Dense)                 (None, 10)           330         dense_1[0][0]                    \n",
      "__________________________________________________________________________________________________\n",
      "lambda_1 (Lambda)               (None, 10)           0           mu[0][0]                         \n",
      "                                                                 log_var[0][0]                    \n",
      "__________________________________________________________________________________________________\n",
      "model_2 (Model)                 (None, 28, 28, 1)    31265       lambda_1[0][0]                   \n",
      "==================================================================================================\n",
      "Total params: 89,253\n",
      "Trainable params: 89,253\n",
      "Non-trainable params: 0\n",
      "__________________________________________________________________________________________________\n"
     ]
    }
   ],
   "source": [
    "latent_dim = 10 # dimension of latent variable\n",
    "\n",
    "inputs = Input(shape = (28,28,1))\n",
    "conv1 = Conv2D(16, (3,3), activation = 'relu', padding = \"SAME\")(inputs)\n",
    "conv1_1 = Conv2D(16, (3,3), activation = 'relu', padding = \"SAME\")(conv1)\n",
    "pool1 = MaxPooling2D(pool_size = (2,2), strides = 2)(conv1_1)\n",
    "conv2 = Conv2D(32, (3,3), activation = 'relu', padding = \"SAME\")(pool1)\n",
    "pool2 = MaxPooling2D(pool_size = (2,2), strides = 2)(conv2)\n",
    "\n",
    "flat = Flatten()(pool2)\n",
    "input_to_z = Dense(32, activation = 'relu')(flat)\n",
    "mu = Dense(latent_dim, name='mu')(input_to_z)\n",
    "sigma = Dense(latent_dim, name='log_var')(input_to_z)\n",
    "\n",
    "encoder = Model(inputs, mu)\n",
    "\n",
    "def sampling(args):\n",
    "    mu, sigma = args\n",
    "    batch = K.shape(mu)[0]\n",
    "    dim = K.int_shape(mu)[1]\n",
    "    epsilon = K.random_normal(shape=(K.shape(mu)),\n",
    "                              mean=0., stddev=1.)\n",
    "    return mu + K.exp(sigma) * epsilon\n",
    "\n",
    "z = Lambda(sampling,output_shape=(latent_dim,))([mu, sigma])\n",
    "\n",
    "decoder_inputs = Input(K.int_shape(z)[1:])\n",
    "dense_layer_d = Dense(7*7*32, activation = 'relu')(decoder_inputs)\n",
    "output_from_z_d = Reshape((7,7,32))(dense_layer_d)\n",
    "trans1_d = Conv2DTranspose(32, 3, padding='same', activation='relu', strides=(2, 2))(output_from_z_d)\n",
    "trans1_1_d = Conv2DTranspose(16, 3, padding='same', activation='relu', strides=(2, 2))(trans1_d)\n",
    "trans2_d = Conv2DTranspose(1, 3, padding='same', activation='relu')(trans1_1_d)\n",
    "\n",
    "decoder = Model(decoder_inputs, trans2_d)\n",
    "z_decoded = decoder(z)\n",
    "\n",
    "vae = Model(inputs, z_decoded)\n",
    "vae.summary()\n",
    "\n",
    "\n",
    "class calc_output_with_los(keras.layers.Layer):\n",
    "\n",
    "    def vae_loss(self, x, z_decoded):\n",
    "        x = K.flatten(x)\n",
    "        z_decoded = K.flatten(z_decoded)\n",
    "\n",
    "        xent_loss = keras.metrics.binary_crossentropy(x, z_decoded)\n",
    "\n",
    "        kl_loss = -5e-4 * K.mean(1 + sigma - K.square(mu) - K.exp(sigma), axis=-1)\n",
    "        return K.mean(xent_loss + kl_loss)\n",
    "\n",
    "    def call(self, inputs):\n",
    "        x = inputs[0]\n",
    "        z_decoded = inputs[1]\n",
    "        loss = self.vae_loss(x, z_decoded)\n",
    "        self.add_loss(loss, inputs=inputs)\n",
    "        return x\n",
    "\n",
    "outputs = calc_output_with_los()([inputs, z_decoded])"
   ]
  },
  {
   "cell_type": "code",
   "execution_count": 6,
   "metadata": {
    "scrolled": true
   },
   "outputs": [
    {
     "name": "stdout",
     "output_type": "stream",
     "text": [
      "WARNING:tensorflow:From /home/houssem/anaconda2/envs/mypy3/lib/python3.4/site-packages/tensorflow/python/ops/math_ops.py:3066: to_int32 (from tensorflow.python.ops.math_ops) is deprecated and will be removed in a future version.\n",
      "Instructions for updating:\n",
      "Use tf.cast instead.\n",
      "Train on 54000 samples, validate on 6000 samples\n",
      "Epoch 1/100\n",
      "54000/54000 [==============================] - 90s 2ms/step - loss: 0.2484 - val_loss: 0.1813\n",
      "Epoch 2/100\n",
      "54000/54000 [==============================] - 89s 2ms/step - loss: 0.1909 - val_loss: 0.1663\n",
      "Epoch 3/100\n",
      "54000/54000 [==============================] - 90s 2ms/step - loss: 0.1677 - val_loss: 0.1638\n",
      "Epoch 4/100\n",
      "54000/54000 [==============================] - 91s 2ms/step - loss: 0.1830 - val_loss: 0.1590\n",
      "Epoch 5/100\n",
      "54000/54000 [==============================] - 88s 2ms/step - loss: 0.1628 - val_loss: 0.1604\n",
      "Epoch 6/100\n",
      "54000/54000 [==============================] - 88s 2ms/step - loss: 0.1728 - val_loss: 0.1563\n",
      "Epoch 7/100\n",
      "54000/54000 [==============================] - 88s 2ms/step - loss: 0.1763 - val_loss: 0.1654\n",
      "Epoch 8/100\n",
      "54000/54000 [==============================] - 87s 2ms/step - loss: 0.1760 - val_loss: 0.1558\n",
      "Epoch 9/100\n",
      "54000/54000 [==============================] - 90s 2ms/step - loss: 0.1504 - val_loss: 0.1520\n",
      "Epoch 10/100\n",
      "54000/54000 [==============================] - 88s 2ms/step - loss: 0.1623 - val_loss: 0.1588\n",
      "Epoch 11/100\n",
      "54000/54000 [==============================] - 88s 2ms/step - loss: 0.1500 - val_loss: 0.1590\n",
      "Epoch 12/100\n",
      "54000/54000 [==============================] - 89s 2ms/step - loss: 0.1447 - val_loss: 0.1496\n",
      "Epoch 13/100\n",
      "54000/54000 [==============================] - 88s 2ms/step - loss: 0.1481 - val_loss: 0.1544\n",
      "Epoch 14/100\n",
      "54000/54000 [==============================] - 88s 2ms/step - loss: 0.1413 - val_loss: 0.1474\n",
      "Epoch 15/100\n",
      "54000/54000 [==============================] - 86s 2ms/step - loss: 0.1419 - val_loss: 0.1486\n",
      "Epoch 16/100\n",
      "54000/54000 [==============================] - 88s 2ms/step - loss: 0.1401 - val_loss: 0.1467\n",
      "Epoch 17/100\n",
      "54000/54000 [==============================] - 92s 2ms/step - loss: 0.1616 - val_loss: 0.2399\n",
      "Epoch 18/100\n",
      "54000/54000 [==============================] - 88s 2ms/step - loss: 0.1848 - val_loss: 0.1601\n",
      "Epoch 19/100\n",
      "54000/54000 [==============================] - 88s 2ms/step - loss: 0.1561 - val_loss: 0.1592\n",
      "Epoch 20/100\n",
      "54000/54000 [==============================] - 88s 2ms/step - loss: 0.1543 - val_loss: 0.1652\n",
      "Epoch 21/100\n",
      "54000/54000 [==============================] - 87s 2ms/step - loss: 0.1452 - val_loss: 0.1495\n"
     ]
    }
   ],
   "source": [
    "vae = Model(inputs, outputs)\n",
    "m = 128\n",
    "n_epoch = 100\n",
    "vae.compile(optimizer='adam', loss=None)\n",
    "vae_history = vae.fit(train_x, epochs=n_epoch, batch_size=m, shuffle=True,validation_split=0.1,\n",
    "        callbacks = [EarlyStopping(monitor='val_loss',patience = 5)])"
   ]
  },
  {
   "cell_type": "code",
   "execution_count": 8,
   "metadata": {},
   "outputs": [],
   "source": [
    "model_json = vae.to_json()\n",
    "with open(\"vae4.json\", \"w\") as json_file:\n",
    "    json_file.write(model_json)\n",
    "\n",
    "vae.save_weights(\"vae4.h5\")"
   ]
  },
  {
   "cell_type": "code",
   "execution_count": 7,
   "metadata": {},
   "outputs": [
    {
     "data": {
      "image/png": "[encoded data removed]",
      "text/plain": [
       "<Figure size 1296x576 with 1 Axes>"
      ]
     },
     "metadata": {},
     "output_type": "display_data"
    }
   ],
   "source": [
    "fig ,ax = plt.subplots(figsize=(18,8))\n",
    "plt.plot(vae_history.history['loss'])\n",
    "plt.plot(vae_history.history['val_loss'])\n",
    "plt.title('model loss')\n",
    "plt.ylabel('loss')\n",
    "plt.xlabel('epoch')\n",
    "plt.legend(['train', 'validation'], loc='upper left')\n",
    "plt.show()    "
   ]
  },
  {
   "cell_type": "code",
   "execution_count": 9,
   "metadata": {},
   "outputs": [
    {
     "data": {
      "text/plain": [
       "KNeighborsClassifier(algorithm='auto', leaf_size=30, metric='minkowski',\n",
       "           metric_params=None, n_jobs=1, n_neighbors=27, p=2,\n",
       "           weights='uniform')"
      ]
     },
     "execution_count": 9,
     "metadata": {},
     "output_type": "execute_result"
    }
   ],
   "source": [
    "train_x_encoded = encoder.predict(train_x)\n",
    "weights='uniform'\n",
    "n_neighbors=27\n",
    "clf = neighbors.KNeighborsClassifier(n_neighbors, weights=weights)\n",
    "clf.fit(train_x_encoded, train_y)"
   ]
  },
  {
   "cell_type": "code",
   "execution_count": 10,
   "metadata": {},
   "outputs": [
    {
     "data": {
      "application/vnd.jupyter.widget-view+json": {
       "model_id": "ae165fffa9f6486a96237b91f0408ccb",
       "version_major": 2,
       "version_minor": 0
      },
      "text/plain": [
       "HBox(children=(IntProgress(value=0, max=10), HTML(value='')))"
      ]
     },
     "metadata": {},
     "output_type": "display_data"
    },
    {
     "name": "stdout",
     "output_type": "stream",
     "text": [
      "\n",
      "(10000, 28, 28, 1) (10000,)\n"
     ]
    }
   ],
   "source": [
    "test_x, test_y= [], []\n",
    "for i in tqdm(range(10)):\n",
    "    test_x += load(i,'testing')[0] \n",
    "    test_y += load(i,'testing')[1]\n",
    "test_x = np.array(test_x)\n",
    "test_x = np.reshape(test_x, [-1, image_size, image_size, 1])\n",
    "test_x = test_x.astype('float32') / 255\n",
    "test_y = np.array(test_y)\n",
    "print(test_x.shape, test_y.shape)"
   ]
  },
  {
   "cell_type": "code",
   "execution_count": 11,
   "metadata": {},
   "outputs": [
    {
     "name": "stdout",
     "output_type": "stream",
     "text": [
      "Accuracy: 0.92100, Cohen's Kappa Score: 0.92011\n",
      " \n",
      "Confusion Matrix:\n",
      "[[ 963    0    2    2    0    4    4    1    4    0]\n",
      " [   1 1123    4    0    1    0    3    0    2    1]\n",
      " [   9    0  976   11    2    1    3    9   19    2]\n",
      " [   3    4    9  940    0   13    0    7   28    6]\n",
      " [   1    1    2    0  823    1   12    5    3  134]\n",
      " [   8    1    1   63    2  772   12    1   27    5]\n",
      " [   6    3    1    0    4    8  931    0    3    2]\n",
      " [   0   10   13    0    3    0    0  920    3   79]\n",
      " [  13    1   13   13   10   26    3    5  878   12]\n",
      " [   2    6    6   10   47   13    1   28   12  884]]\n",
      "Classification Report:\n",
      "             precision    recall  f1-score   support\n",
      "\n",
      "          0       0.96      0.98      0.97       980\n",
      "          1       0.98      0.99      0.98      1135\n",
      "          2       0.95      0.95      0.95      1032\n",
      "          3       0.90      0.93      0.92      1010\n",
      "          4       0.92      0.84      0.88       982\n",
      "          5       0.92      0.87      0.89       892\n",
      "          6       0.96      0.97      0.97       958\n",
      "          7       0.94      0.89      0.92      1028\n",
      "          8       0.90      0.90      0.90       974\n",
      "          9       0.79      0.88      0.83      1009\n",
      "\n",
      "avg / total       0.92      0.92      0.92     10000\n",
      "\n"
     ]
    }
   ],
   "source": [
    "test_x_encoded = encoder.predict(test_x)\n",
    "\n",
    "test_x_neibghour = clf.predict(test_x_encoded)\n",
    "print(\"Accuracy: {:.5f}, Cohen's Kappa Score: {:.5f}\".format(\n",
    "    accuracy_score(test_y, test_x_neibghour), \n",
    "    cohen_kappa_score(test_y, test_x_neibghour, weights=\"quadratic\")))\n",
    "print(' ')\n",
    "print(\"Confusion Matrix:\")\n",
    "print(confusion_matrix(test_y, test_x_neibghour))\n",
    "print(\"Classification Report:\")\n",
    "print(classification_report(test_y, test_x_neibghour))"
   ]
  },
  {
   "cell_type": "code",
   "execution_count": 19,
   "metadata": {},
   "outputs": [
    {
     "data": {
      "text/plain": [
       "RandomForestClassifier(bootstrap=True, class_weight=None, criterion='entropy',\n",
       "            max_depth=None, max_features='auto', max_leaf_nodes=None,\n",
       "            min_impurity_decrease=0.0, min_impurity_split=None,\n",
       "            min_samples_leaf=1, min_samples_split=2,\n",
       "            min_weight_fraction_leaf=0.0, n_estimators=30, n_jobs=1,\n",
       "            oob_score=False, random_state=42, verbose=0, warm_start=False)"
      ]
     },
     "execution_count": 19,
     "metadata": {},
     "output_type": "execute_result"
    }
   ],
   "source": [
    "from sklearn.ensemble import RandomForestClassifier\n",
    "classifier = RandomForestClassifier(n_estimators = 30, criterion = 'entropy', random_state = 42)\n",
    "classifier.fit(train_x_encoded, train_y)  "
   ]
  },
  {
   "cell_type": "code",
   "execution_count": 20,
   "metadata": {},
   "outputs": [],
   "source": [
    "y_pred = classifier.predict(test_x_encoded) "
   ]
  },
  {
   "cell_type": "code",
   "execution_count": 21,
   "metadata": {},
   "outputs": [
    {
     "name": "stdout",
     "output_type": "stream",
     "text": [
      "Accuracy: 0.91640, Cohen's Kappa Score: 0.91441\n",
      " \n",
      "Confusion Matrix:\n",
      "[[ 958    0    1    1    0    5   11    1    3    0]\n",
      " [   0 1116    5    3    2    0    5    1    2    1]\n",
      " [   8    0  975   17    4    1    3    8   16    0]\n",
      " [   9    3   14  934    0   16    0    9   19    6]\n",
      " [   0    1    4    0  872    1   12    5    6   81]\n",
      " [  13    0    3   49    4  787    8    1   26    1]\n",
      " [   7    2    3    0    5   14  925    0    2    0]\n",
      " [   0    4   19    2    5    0    0  932    1   65]\n",
      " [  14    3   18   35    9   31    2    5  843   14]\n",
      " [   2    5    4   12   96   11    1   41   15  822]]\n",
      "Classification Report:\n",
      "             precision    recall  f1-score   support\n",
      "\n",
      "          0       0.95      0.98      0.96       980\n",
      "          1       0.98      0.98      0.98      1135\n",
      "          2       0.93      0.94      0.94      1032\n",
      "          3       0.89      0.92      0.91      1010\n",
      "          4       0.87      0.89      0.88       982\n",
      "          5       0.91      0.88      0.90       892\n",
      "          6       0.96      0.97      0.96       958\n",
      "          7       0.93      0.91      0.92      1028\n",
      "          8       0.90      0.87      0.88       974\n",
      "          9       0.83      0.81      0.82      1009\n",
      "\n",
      "avg / total       0.92      0.92      0.92     10000\n",
      "\n"
     ]
    }
   ],
   "source": [
    "print(\"Accuracy: {:.5f}, Cohen's Kappa Score: {:.5f}\".format(\n",
    "    accuracy_score(test_y, y_pred), \n",
    "    cohen_kappa_score(test_y, y_pred, weights=\"quadratic\")))\n",
    "print(' ')\n",
    "print(\"Confusion Matrix:\")\n",
    "print(confusion_matrix(test_y, y_pred))\n",
    "print(\"Classification Report:\")\n",
    "print(classification_report(test_y, y_pred))"
   ]
  },
  {
   "cell_type": "code",
   "execution_count": null,
   "metadata": {},
   "outputs": [],
   "source": []
  },
  {
   "cell_type": "code",
   "execution_count": null,
   "metadata": {},
   "outputs": [],
   "source": []
  },
  {
   "cell_type": "code",
   "execution_count": null,
   "metadata": {},
   "outputs": [],
   "source": []
  },
  {
   "cell_type": "code",
   "execution_count": null,
   "metadata": {},
   "outputs": [],
   "source": []
  },
  {
   "cell_type": "code",
   "execution_count": null,
   "metadata": {},
   "outputs": [],
   "source": []
  }
 ],
 "metadata": {
  "kernelspec": {
   "display_name": "Python (mypy3)",
   "language": "python",
   "name": "mypy3"
  },
  "language_info": {
   "codemirror_mode": {
    "name": "ipython",
    "version": 3
   },
   "file_extension": ".py",
   "mimetype": "text/x-python",
   "name": "python",
   "nbconvert_exporter": "python",
   "pygments_lexer": "ipython3",
   "version": "3.4.5"
  }
 },
 "nbformat": 4,
 "nbformat_minor": 2
}
